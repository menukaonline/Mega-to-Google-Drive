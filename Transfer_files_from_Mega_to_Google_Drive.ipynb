{
  "nbformat": 4,
  "nbformat_minor": 0,
  "metadata": {
    "colab": {
      "provenance": [],
      "collapsed_sections": [
        "uzNhWbBScpCB",
        "VxQ1zquNGKOz",
        "9NX3YmadHXtb",
        "7TGCDD4YGd_a"
      ],
      "machine_shape": "hm"
    },
    "kernelspec": {
      "name": "python3",
      "display_name": "Python 3"
    }
  },
  "cells": [
    {
      "cell_type": "markdown",
      "metadata": {
        "id": "view-in-github"
      },
      "source": [
        "<a href=\"https://colab.research.google.com/github/hamada2029/Mega-to-Google-Drive/blob/master/Transfer_files_from_Mega_to_Google_Drive.ipynb\" target=\"_parent\"><img src=\"https://colab.research.google.com/assets/colab-badge.svg\" alt=\"Open In Colab\"/></a>"
      ]
    },
    {
      "cell_type": "markdown",
      "metadata": {
        "id": "PIbxZ-1ofeCG"
      },
      "source": [
        "## **<font color='blue'> Mega to Google Drive - Shared by [Cheems](https://github.com/cheems) </font>**\n"
      ]
    },
    {
      "cell_type": "markdown",
      "metadata": {
        "id": "uzNhWbBScpCB"
      },
      "source": [
        "##__Mount GDrive to /content/drive__\n",
        "#####Use one of below methods. Mounting with Google Drive File Stream app is more comfortable, but it has some writing issues. So you can avoid them by using Rclone instead."
      ]
    },
    {
      "cell_type": "markdown",
      "metadata": {
        "id": "VxQ1zquNGKOz"
      },
      "source": [
        "###__Mount with Google Drive File Stream__"
      ]
    },
    {
      "cell_type": "code",
      "metadata": {
        "id": "tPuLCnbGFmxo",
        "cellView": "form"
      },
      "source": [
        "#@markdown <br><center><img src='https://upload.wikimedia.org/wikipedia/commons/thumb/d/da/Google_Drive_logo.png/600px-Google_Drive_logo.png' height=\"50\" alt=\"Gdrive-logo\"/></center>\n",
        "#@markdown <center><h3>Mount GDrive to /content/drive</h3></center><br>\n",
        "MODE = \"MOUNT\" #@param [\"MOUNT\", \"UNMOUNT\"]\n",
        "#Mount your Gdrive!\n",
        "from google.colab import drive\n",
        "drive.mount._DEBUG = False\n",
        "if MODE == \"MOUNT\":\n",
        "  drive.mount('/content/drive', force_remount=True)\n",
        "elif MODE == \"UNMOUNT\":\n",
        "  try:\n",
        "    drive.flush_and_unmount()\n",
        "  except ValueError:\n",
        "    pass\n",
        "  get_ipython().system_raw(\"rm -rf /root/.config/Google/DriveFS\")"
      ],
      "execution_count": null,
      "outputs": []
    },
    {
      "cell_type": "markdown",
      "metadata": {
        "id": "9NX3YmadHXtb"
      },
      "source": [
        "###__Mount with Rclone - (More Accurate) - (Updated)__\n",
        "#####**- Multiple drives including team drives can be mounted at the same runtime session**"
      ]
    },
    {
      "cell_type": "code",
      "metadata": {
        "cellView": "form",
        "id": "Bv6jr3SajESu"
      },
      "source": [
        "#@markdown <br><center><img src='https://rclone.org/img/logo_on_light__horizontal_color.svg' height=\"50\" alt=\"Gdrive-logo\"/></center>\n",
        "#@markdown <center><h3>Mount GDrive to /content/drive_name</h3></center><br>\n",
        "drive_name = \"\" #@param {type:\"string\"}\n",
        "#@markdown If you want to configure this as a team drive, check the below checkbox\n",
        "team_drive = False #@param {type:\"boolean\"}\n",
        "\n",
        "import subprocess, time, json, os\n",
        "from google.colab import output\n",
        "from IPython.display import HTML, clear_output\n",
        "\n",
        "def formatx(i, j, k):\n",
        "    val=auth_response[i].split(\": \")[1][1-j:-2+j+k]\n",
        "    return val\n",
        "\n",
        "rclone_status = subprocess.check_output(\"command -v rclone &> /dev/null\",  shell=True).decode()\n",
        "if rclone_status:\n",
        "  pass\n",
        "else:\n",
        "  !curl https://rclone.org/install.sh | sudo bash\n",
        "  !rclone config file\n",
        "  !touch /root/.config/rclone/rclone.conf\n",
        "  output.clear()\n",
        "  display(HTML(\"<h2 style=\\\"font-family:Trebuchet MS;color:#446785;\\\">Rclone: Installed successfully .</h2><br>\"))\n",
        "  time.sleep(1)\n",
        "  display(HTML(\"<h2 style=\\\"font-family:Trebuchet MS;color:#446785;\\\">Next: Drive authentication...</h2><br>\"))\n",
        "  time.sleep(2)\n",
        "  output.clear()\n",
        "\n",
        "client_id=\"202264815644.apps.googleusercontent.com\"\n",
        "client_secret=\"X4Z3ca8xfWDb1Voo-F9a7ZxJ\"\n",
        "print(\"Go to this URL in a browser: https://accounts.google.com/o/oauth2/auth?client_id={}&redirect_uri=urn:ietf:wg:oauth:2.0:oob&scope=https://www.googleapis.com/auth/drive&response_type=code\".format(client_id))\n",
        "auth_code=input(\"Enter your authorization code: \")\n",
        "auth_response = subprocess.check_output(\"curl -d client_id={} -d client_secret={} -d grant_type=authorization_code -d redirect_uri=urn:ietf:wg:oauth:2.0:oob -d code={} https://accounts.google.com/o/oauth2/token\".format(client_id, client_secret, auth_code), shell=True).decode().split(\"\\n\")[1:6]\n",
        "access_token, expires_in, refresh_token, scope, token_type = formatx(0, 0, 0), formatx(1, 1, 0), formatx(2, 0, 0), formatx(3, 0, 0), formatx(4, 0, 1)\n",
        "token_in_json = \"{\"+\", \".join(\"\".join(\"\".join(auth_response).split(\"  \")).split(\",\"))+\"}\"\n",
        "\n",
        "output.clear()\n",
        "display(HTML(\"<h2 style=\\\"font-family:Trebuchet MS;color:#446785;\\\">Authenticated successfully.</h2><br>\"))\n",
        "time.sleep(2)\n",
        "output.clear()\n",
        "\n",
        "if team_drive:\n",
        "  print(\"Fetching team drive list...\")\n",
        "  check_drives = subprocess.check_output('''curl \\\n",
        "  'https://www.googleapis.com/drive/v3/drives' \\\n",
        "  --header 'Authorization: Bearer {}' \\\n",
        "  --header 'Accept: application/json' \\\n",
        "  --compressed'''.format(access_token),  shell=True).decode()\n",
        "  drive_list = json.loads(check_drives).get('drives')\n",
        "  print(\"Choose a number from below.(If you want to use the 1st team drive from the below list, type 1 and press enter)\")\n",
        "  for i in range(len(drive_list)):\n",
        "    print(i+1,\"/\", drive_list[i].get('name'))\n",
        "    print(\"  \\\\\",\"\\\"\"+drive_list[i].get('id')+\"\\\"\")\n",
        "  selected_num = int(input(\"Enter the number : \"))\n",
        "  root_id = drive_list[selected_num-1].get('id')\n",
        "else:\n",
        "  print(\"Fetching root id...\")\n",
        "  check_about = subprocess.check_output('''curl \\\n",
        "  'https://www.googleapis.com/drive/v2/about' \\\n",
        "  --header 'Authorization: Bearer {}' \\\n",
        "  --header 'Accept: application/json' \\\n",
        "  --compressed'''.format(access_token),  shell=True).decode()\n",
        "  root_id = json.loads(check_about).get('rootFolderId')\n",
        "\n",
        "#read file\n",
        "rfile = open(r\"/root/.config/rclone/rclone.conf\", \"r\")\n",
        "rfile_content = rfile.readlines()\n",
        "rfile.close()\n",
        "#write file\n",
        "wfile = open(r\"/root/.config/rclone/rclone.conf\",\"a+\")\n",
        "if len(rfile_content) > 0:\n",
        "  wfile.write(\"\\n\\n\")\n",
        "wfile.write(\"[{}]\\ntype = drive\\nscope = drive\\ntoken = {}\\n\".format(drive_name, token_in_json))\n",
        "if team_drive:\n",
        "  wfile.write(\"team_drive = {}\".format(root_id))\n",
        "else:\n",
        "  wfile.write(\"root_folder_id = {}\".format(root_id))\n",
        "wfile.close()\n",
        "\n",
        "output.clear()\n",
        "display(HTML(\"<h2 style=\\\"font-family:Trebuchet MS;color:#446785;\\\">Configuration: Completed successfully</h2><br>\"))\n",
        "time.sleep(1)\n",
        "display(HTML(\"<h2 style=\\\"font-family:Trebuchet MS;color:#446785;\\\">Next: Mounting drive...</h2><br>\"))\n",
        "time.sleep(2)\n",
        "output.clear()\n",
        "\n",
        "rclone_config_name = drive_name\n",
        "local_mount_location = \"/content/\"+drive_name+\"/\"\n",
        "\n",
        "# clear nohup\n",
        "open(\"nohup.out\", 'w').close()\n",
        "\n",
        "# unmount first\n",
        "#!fusermount -u $local_mount_location 2>/dev/null\n",
        "\n",
        "# mount without waiting for the command to complete\n",
        "!mkdir $local_mount_location 2>/dev/null\n",
        "!nohup rclone mount $rclone_config_name: $local_mount_location --buffer-size 96M &\n",
        "\n",
        "# Show the output that was written to nohup\n",
        "time.sleep(3)\n",
        "f = open(r\"nohup.out\", \"r\")\n",
        "nohupText = f.read()\n",
        "f.close()\n",
        "\n",
        "dirs = os.listdir(local_mount_location)\n",
        "\n",
        "if len(dirs) > 0:\n",
        "  clear_output(wait=True)\n",
        "  print(\"Succeeded. \", str(len(dirs)), \"dirs found at\", local_mount_location)\n",
        "\n",
        "else:\n",
        "  print(\"\\n\\nNot succeeded. No files or directories in mounted location. \\nCheck your config name and content. If the rclone command was not found, run the cell above.\\n\\n\")\n",
        "  print(\"log:\\n\", nohupText)"
      ],
      "execution_count": null,
      "outputs": []
    },
    {
      "cell_type": "markdown",
      "metadata": {
        "id": "kSvUMUuTPX7r"
      },
      "source": [
        "##__Transfer from Mega to GDrive__\n",
        "\n",
        "\n",
        "\n"
      ]
    },
    {
      "cell_type": "code",
      "metadata": {
        "id": "XlDyLy_JZJ03",
        "cellView": "form"
      },
      "source": [
        "import sys, os, urllib.request\n",
        "import time\n",
        "import subprocess\n",
        "import contextlib\n",
        "from IPython.display import clear_output\n",
        "#@markdown <br><center><img src='https://mega.nz/favicon.ico?v=3' height=\"50\" alt=\"MEGA-logo\"/></center>\n",
        "#@markdown <center><h2>Transfer from Mega to GDrive</h2></center><br>\n",
        "HOME = os.path.expanduser(\"~\")\n",
        "if not os.path.exists(f\"{HOME}/.ipython/ocr.py\"):\n",
        "    hCode = \"https://raw.githubusercontent.com/biplobsd/\" \\\n",
        "                \"OneClickRun/master/res/ocr.py\"\n",
        "    urllib.request.urlretrieve(hCode, f\"{HOME}/.ipython/ocr.py\")\n",
        "\n",
        "from ocr import (\n",
        "    runSh,\n",
        "    loadingAn,\n",
        ")\n",
        "#@title MEGA public link download\n",
        "URL = \"\" #@param {type:\"string\"}\n",
        "OUTPUT_PATH = \"\" #@param {type:\"string\"}\n",
        "#@markdown #####_*Sometimes this cell doesn't stop itself after the completion of the transfer. In case of that stop the cell manually._\n",
        "if not OUTPUT_PATH:\n",
        "  os.makedirs(\"downloads\", exist_ok=True)\n",
        "  OUTPUT_PATH = \"downloads\"\n",
        "# MEGAcmd installing\n",
        "if not os.path.exists(\"/usr/bin/mega-cmd\"):\n",
        "    loadingAn()\n",
        "    print(\"Installing MEGA ...\")\n",
        "    runSh('apt -y update')\n",
        "    runSh('wget https://mega.nz/linux/repo/xUbuntu_22.04/amd64/megacmd-xUbuntu_22.04_amd64.deb -P /var/cache/apt/archives', output=True)\n",
        "    runSh('apt install \"/var/cache/apt/archives/megacmd-xUbuntu_22.04_amd64.deb\"', output=True)\n",
        "    print(\"MEGA is installed.\")\n",
        "    clear_output()\n",
        "\n",
        "# Unix, Windows and old Macintosh end-of-line\n",
        "newlines = ['\\n', '\\r\\n', '\\r']\n",
        "\n",
        "def unbuffered(proc, stream='stdout'):\n",
        "    stream = getattr(proc, stream)\n",
        "    with contextlib.closing(stream):\n",
        "        while True:\n",
        "            out = []\n",
        "            last = stream.read(1)\n",
        "            # Don't loop forever\n",
        "            if last == '' and proc.poll() is not None:\n",
        "                break\n",
        "            while last not in newlines:\n",
        "                # Don't loop forever\n",
        "                if last == '' and proc.poll() is not None:\n",
        "                    break\n",
        "                out.append(last)\n",
        "                last = stream.read(1)\n",
        "            out = ''.join(out)\n",
        "            yield out\n",
        "\n",
        "\n",
        "def transfare():\n",
        "    import codecs\n",
        "    decoder = codecs.getincrementaldecoder(\"UTF-8\")()\n",
        "    cmd = [\"mega-get\", URL, OUTPUT_PATH]\n",
        "    proc = subprocess.Popen(\n",
        "        cmd,\n",
        "        stdout=subprocess.PIPE,\n",
        "        stderr=subprocess.STDOUT,\n",
        "        # Make all end-of-lines '\\n'\n",
        "        universal_newlines=True,\n",
        "    )\n",
        "    for line in unbuffered(proc):\n",
        "        print(line)\n",
        "\n",
        "\n",
        "\n",
        "transfare()\n",
        "\n"
      ],
      "execution_count": null,
      "outputs": []
    },
    {
      "cell_type": "markdown",
      "metadata": {
        "id": "7TGCDD4YGd_a"
      },
      "source": [
        "####_Update: If you have a Mega Pro account, sign in to use its bandwidth(transfer quota)_"
      ]
    },
    {
      "cell_type": "code",
      "metadata": {
        "id": "Vgh1xlQYGZCO"
      },
      "source": [
        "# @markdown <center><h3>Input Your Mega ID</h3></center><br>\n",
        "from functools import wraps\n",
        "import errno\n",
        "import os\n",
        "import signal\n",
        "import subprocess\n",
        "import shlex\n",
        "\n",
        "\n",
        "class TimeoutError(Exception):\n",
        "    pass\n",
        "\n",
        "\n",
        "def timeout(seconds=10, error_message=os.strerror(errno.ETIME)):\n",
        "    def decorator(func):\n",
        "        def _handle_timeout(signum, frame):\n",
        "            raise TimeoutError(error_message)\n",
        "\n",
        "        def wrapper(*args, **kwargs):\n",
        "            signal.signal(signal.SIGALRM, _handle_timeout)\n",
        "            signal.alarm(seconds)\n",
        "            try:\n",
        "                result = func(*args, **kwargs)\n",
        "            finally:\n",
        "                signal.alarm(0)\n",
        "            return result\n",
        "\n",
        "        return wraps(func)(wrapper)\n",
        "\n",
        "    return decorator\n",
        "\n",
        "\n",
        "if not os.path.exists(\"/root/.ipython/ocr.py\"):\n",
        "    from subprocess import run\n",
        "    from shlex import split\n",
        "\n",
        "    shellCmd = \"wget -qq https://raw.githubusercontent.com/biplobsd/OneClickRun/master/res/ocr.py \\\n",
        "                    -O /root/.ipython/ocr.py\"\n",
        "    run(split(shellCmd))\n",
        "from ocr import runSh\n",
        "\n",
        "@timeout(10)\n",
        "def runShT(args):\n",
        "    return runSh(args, output=True)\n",
        "\n",
        "\n",
        "# MEGAcmd installing\n",
        "if not os.path.exists(\"/usr/bin/mega-cmd\"):\n",
        "    print(\"Installing MEGA ...\")\n",
        "    runSh('apt -y update')\n",
        "    runSh('wget https://mega.nz/linux/repo/xUbuntu_22.04/amd64/megacmd-xUbuntu_22.04_amd64.deb -P /var/cache/apt/archives', output=True)\n",
        "    runSh('apt install \"/var/cache/apt/archives/megacmd-xUbuntu_22.04_amd64.deb\"', output=True)\n",
        "    print(\"MEGA is installed.\")\n",
        "else:\n",
        "    !pkill mega-cmd\n",
        "\n",
        "# INPUT YOUR MEGA ID\n",
        "\n",
        "USERNAME = \"\"  # @param {type:\"string\"}\n",
        "PASSWORD = \"\"  # @param {type:\"string\"}\n",
        "if not (USERNAME == \"\" or PASSWORD == \"\"):\n",
        "    try:\n",
        "        runShT(f\"mega-login {USERNAME} {PASSWORD}\")\n",
        "    except TimeoutError:\n",
        "        runSh('mega-whoami', output=True)\n",
        "else:\n",
        "    print(\"Please Input your Mega IDs.\")\n",
        "# @markdown *After signing in, use the above cell(Main Cell) to transfer files from Mega to GDrive using the transfer quota of your Mega Pro Account*"
      ],
      "execution_count": null,
      "outputs": []
    },
    {
      "cell_type": "markdown",
      "metadata": {
        "id": "fhwIXzcgfkoR"
      },
      "source": [
        "# 📚 Follow me on GitHub for more: [_@cheems_](https://github.com/cheems)\n",
        "# 📦 Repo: [Github](https://github.com/cheems/Mega-to-Google-Drive)"
      ]
    }
  ]
}
